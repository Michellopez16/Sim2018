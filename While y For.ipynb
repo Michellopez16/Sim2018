{
 "cells": [
  {
   "cell_type": "markdown",
   "metadata": {},
   "source": [
    "# El bucle while o bucle mientras \n",
    "\n",
    "Un bucle while **permite repetir un bloque de código mientras una condición se mantenga verdadera.** (es decir, mientras la condición tenga el valor True) .\n",
    "\n",
    "**while** condicion**:**\n",
    "\n",
    "    cuerpo del bucle\n",
    "    "
   ]
  },
  {
   "cell_type": "markdown",
   "metadata": {},
   "source": [
    "### El siguiente programa escribe los números del 1 al 10:"
   ]
  },
  {
   "cell_type": "code",
   "execution_count": 3,
   "metadata": {},
   "outputs": [
    {
     "name": "stdout",
     "output_type": "stream",
     "text": [
      "1\n",
      "Hola mudno\n",
      "Programa terminado\n",
      "3\n",
      "Hola mudno\n",
      "Programa terminado\n",
      "5\n",
      "Hola mudno\n",
      "Programa terminado\n",
      "7\n",
      "Hola mudno\n",
      "Programa terminado\n",
      "9\n",
      "Hola mudno\n",
      "Programa terminado\n"
     ]
    }
   ],
   "source": [
    "i = 1\n",
    "while i <= 10:\n",
    "    print(i)\n",
    "    i += 1\n",
    "    i = i+1\n",
    "    print(\"Hola mudno\")\n",
    "    print(\"Programa terminado\")"
   ]
  },
  {
   "cell_type": "code",
   "execution_count": 39,
   "metadata": {},
   "outputs": [
    {
     "name": "stdout",
     "output_type": "stream",
     "text": [
      "10\n",
      "20\n",
      "30\n",
      "40\n",
      "50\n"
     ]
    }
   ],
   "source": [
    "condicion = True\n",
    "i = 10\n",
    "while condicion:\n",
    "    if i >= 50:\n",
    "        condicion=False\n",
    "    print (i)\n",
    "    i+=10"
   ]
  },
  {
   "cell_type": "markdown",
   "metadata": {},
   "source": [
    "# Bucles FOR\n",
    "\n",
    "La sentencia for en Python difiere un poco de lo que uno puede estar acostumbrado en lenguajes como C o Java. \n",
    "\n",
    "En lugar de siempre iterar sobre una progresión aritmética de números o darle al usuario la posibilidad de definir tanto el paso de la iteración como la condición de fin (como en C), la sentencia **for** de Python **itera sobre los ítems de cualquier secuencia** (una **lista** o una **cadena de texto**), en el orden que aparecen en la secuencia.\n",
    "\n",
    "\n",
    "**for** item **in** secuencia:\n",
    "    \n",
    "     cuerpo del bucle"
   ]
  },
  {
   "cell_type": "code",
   "execution_count": 5,
   "metadata": {},
   "outputs": [
    {
     "name": "stdout",
     "output_type": "stream",
     "text": [
      "0 0\n",
      "Programa terminado\n",
      "1 1\n",
      "Programa terminado\n",
      "2 2\n",
      "Programa terminado\n",
      "3 3\n",
      "Programa terminado\n",
      "4 4\n",
      "Programa terminado\n"
     ]
    }
   ],
   "source": [
    "for i in \"Hola Mundo\":\n",
    "    print (i,i)\n",
    "    print(\"Programa terminado\")"
   ]
  },
  {
   "cell_type": "code",
   "execution_count": null,
   "metadata": {},
   "outputs": [],
   "source": []
  },
  {
   "cell_type": "raw",
   "metadata": {},
   "source": [
    "# Rango de 15 numeros:, range(15)"
   ]
  },
  {
   "cell_type": "code",
   "execution_count": 12,
   "metadata": {},
   "outputs": [
    {
     "name": "stdout",
     "output_type": "stream",
     "text": [
      "0\n",
      "2\n",
      "4\n",
      "6\n",
      "8\n",
      "Programa terminado\n"
     ]
    }
   ],
   "source": [
    "for i in range(0,10,2):\n",
    "    print (i)\n",
    "print(\"Programa terminado\")    "
   ]
  },
  {
   "cell_type": "markdown",
   "metadata": {},
   "source": [
    "# Sentencias utilitarias\n",
    "\n",
    "## Usando la sentencia ‘break’"
   ]
  },
  {
   "cell_type": "code",
   "execution_count": 15,
   "metadata": {},
   "outputs": [
    {
     "name": "stdout",
     "output_type": "stream",
     "text": [
      "1\n",
      "2\n",
      "3\n",
      "4\n",
      "5\n",
      "Programa terminado\n"
     ]
    }
   ],
   "source": [
    "i = 1\n",
    "while i <= 10:\n",
    "    print(i)\n",
    "    if i == 5:\n",
    "        break\n",
    "    i += 1\n",
    "print(\"Programa terminado\")"
   ]
  },
  {
   "cell_type": "code",
   "execution_count": 51,
   "metadata": {},
   "outputs": [
    {
     "name": "stdout",
     "output_type": "stream",
     "text": [
      "0\n",
      "1\n",
      "2\n",
      "3\n",
      "4\n",
      "5\n"
     ]
    }
   ],
   "source": [
    "for i in range(10):\n",
    "    print (i)\n",
    "    if i == 5:\n",
    "        break"
   ]
  },
  {
   "cell_type": "markdown",
   "metadata": {},
   "source": [
    "## Usando la sentencia ‘continue’"
   ]
  },
  {
   "cell_type": "code",
   "execution_count": 53,
   "metadata": {},
   "outputs": [
    {
     "name": "stdout",
     "output_type": "stream",
     "text": [
      "1\n",
      "Segundo i: 2\n",
      "Segundo i: 2\n",
      "Segundo i: 2\n",
      "Segundo i: 2\n",
      "2\n",
      "Segundo i: 3\n",
      "Segundo i: 3\n",
      "Segundo i: 3\n",
      "Segundo i: 3\n",
      "3\n",
      "Segundo i: 4\n",
      "Segundo i: 4\n",
      "Segundo i: 4\n",
      "Segundo i: 4\n",
      "4\n",
      "5\n",
      "Segundo i: 6\n",
      "Segundo i: 6\n",
      "Segundo i: 6\n",
      "Segundo i: 6\n",
      "6\n",
      "Segundo i: 7\n",
      "Segundo i: 7\n",
      "Segundo i: 7\n",
      "Segundo i: 7\n",
      "7\n",
      "Segundo i: 8\n",
      "Segundo i: 8\n",
      "Segundo i: 8\n",
      "Segundo i: 8\n",
      "8\n",
      "Segundo i: 9\n",
      "Segundo i: 9\n",
      "Segundo i: 9\n",
      "Segundo i: 9\n",
      "9\n",
      "Segundo i: 10\n",
      "Segundo i: 10\n",
      "Segundo i: 10\n",
      "Segundo i: 10\n",
      "10\n",
      "Segundo i: 11\n",
      "Segundo i: 11\n",
      "Segundo i: 11\n",
      "Segundo i: 11\n",
      "Programa terminado\n"
     ]
    }
   ],
   "source": [
    "i = 1\n",
    "while i <= 10:\n",
    "    print(i)\n",
    "    i += 1\n",
    "    if i == 5:\n",
    "        continue\n",
    "    print (\"Segundo i:\",i)\n",
    "    print (\"Segundo i:\",i)\n",
    "    print (\"Segundo i:\",i)\n",
    "    print (\"Segundo i:\",i)\n",
    "\n",
    "print(\"Programa terminado\")"
   ]
  },
  {
   "cell_type": "code",
   "execution_count": 6,
   "metadata": {},
   "outputs": [
    {
     "name": "stdout",
     "output_type": "stream",
     "text": [
      "1\n",
      "Segundo i: 1\n",
      "2\n",
      "Segundo i: 2\n",
      "3\n",
      "Segundo i: 3\n",
      "4\n",
      "Segundo i: 4\n",
      "5\n",
      "Segundo i: 5\n",
      "6\n",
      "Segundo i: 6\n",
      "7\n",
      "Segundo i: 7\n",
      "8\n",
      "Segundo i: 8\n",
      "9\n",
      "Segundo i: 9\n",
      "10\n",
      "Segundo i: 10\n",
      "Programa terminado\n"
     ]
    }
   ],
   "source": [
    "#Tener precaución usando continue con while\n",
    "\n",
    "i = 1\n",
    "while i <= 10:\n",
    "    print(i)\n",
    "#    if i == 5:\n",
    "#        continue\n",
    "    print (\"Segundo i:\",i)\n",
    "    i += 1\n",
    "print(\"Programa terminado\")"
   ]
  },
  {
   "cell_type": "code",
   "execution_count": 55,
   "metadata": {},
   "outputs": [
    {
     "data": {
      "text/plain": [
       "[0, 1, 2, 3, 4, 5, 6, 7, 8, 9]"
      ]
     },
     "execution_count": 55,
     "metadata": {},
     "output_type": "execute_result"
    }
   ],
   "source": [
    "list(range(10))"
   ]
  },
  {
   "cell_type": "code",
   "execution_count": 5,
   "metadata": {},
   "outputs": [
    {
     "name": "stdout",
     "output_type": "stream",
     "text": [
      "0\n",
      "Segundo i: 0\n",
      "1\n",
      "Segundo i: 1\n",
      "2\n",
      "Segundo i: 2\n",
      "3\n",
      "Segundo i: 3\n",
      "4\n",
      "Segundo i: 4\n",
      "5\n",
      "6\n",
      "Segundo i: 6\n",
      "7\n",
      "Segundo i: 7\n",
      "8\n",
      "Segundo i: 8\n",
      "9\n",
      "Segundo i: 9\n"
     ]
    }
   ],
   "source": [
    "for i in range(10):\n",
    "    print (i)\n",
    "    if i == 5:\n",
    "        continue\n",
    "    print (\"Segundo i:\",i)"
   ]
  },
  {
   "cell_type": "markdown",
   "metadata": {},
   "source": [
    "# Generar números pseudoaleatorios"
   ]
  },
  {
   "cell_type": "code",
   "execution_count": 27,
   "metadata": {},
   "outputs": [
    {
     "name": "stdout",
     "output_type": "stream",
     "text": [
      "9\n"
     ]
    }
   ],
   "source": [
    "import random as ran\n",
    "num_adivinar = ran.randint(3,9)\n",
    "print (num_adivinar)"
   ]
  },
  {
   "cell_type": "code",
   "execution_count": 31,
   "metadata": {},
   "outputs": [
    {
     "name": "stdout",
     "output_type": "stream",
     "text": [
      "Intento 15\n"
     ]
    },
    {
     "data": {
      "text/plain": [
       "'5'"
      ]
     },
     "execution_count": 31,
     "metadata": {},
     "output_type": "execute_result"
    }
   ],
   "source": [
    "input(\"Intento 1\")"
   ]
  },
  {
   "cell_type": "code",
   "execution_count": 35,
   "metadata": {},
   "outputs": [
    {
     "data": {
      "text/plain": [
       "5"
      ]
     },
     "execution_count": 35,
     "metadata": {},
     "output_type": "execute_result"
    }
   ],
   "source": [
    "int (\"5\")"
   ]
  },
  {
   "cell_type": "code",
   "execution_count": 36,
   "metadata": {},
   "outputs": [
    {
     "name": "stdout",
     "output_type": "stream",
     "text": [
      "Intento 5: Adivina el numero!!! \n",
      "6\n"
     ]
    }
   ],
   "source": [
    "i=5\n",
    "num_suposicion = int(input(\"Intento %d: Adivina el numero!!! \\n\" %(i)))"
   ]
  },
  {
   "cell_type": "markdown",
   "metadata": {},
   "source": [
    "# Juego simple. \n",
    "\n",
    "Adivina el numero que la maquina esta pensando!!!\n",
    "\n",
    "- En este pequeño juego el usuario trata de adivinar el número generado por la computadora. \n",
    "- Tiene solo tres oportunidades para adivinar el número. \n",
    "\n",
    "\n",
    "<!--\n",
    "    #print (\"Intento %d: Adivina el numero!!!\" %(i))\n",
    "    #print (\"Intento {}: Adivina el numero!!!\".format(i))\n",
    "    #print (\"Intento {0}: Adivina el numero!!!\".format(i))\n",
    "    #print (\"Intento\",i,\": Adivina el numero!!!\")\n",
    "    #print (\"Intento\"+str(i)+\": Adivina el numero!!!\")\n",
    "-->\n",
    "\n"
   ]
  },
  {
   "cell_type": "code",
   "execution_count": null,
   "metadata": {},
   "outputs": [],
   "source": [
    "#### num_adivinar = ran.randint(0,5)\n",
    "for i in range(3):\n",
    "#    num_suposicion = int(input(\"Intento %d: Adivina el numero!!! \\n\" %(i)))\n",
    "    num_suposicion = int(input(\"Intento\"+ str(i) +\"d: Adivina el numero!!! \\n\"))\n",
    "    if num_adivinar == num_suposicion:\n",
    "        print (\"Genial Adivinaste!!!\")\n",
    "        print (\"¡¡¡Ganaste!!!\")\n",
    "        break"
   ]
  },
  {
   "cell_type": "markdown",
   "metadata": {},
   "source": [
    "## Tarea: Modificación del juego anterior\n",
    "\n",
    "- En este pequeño juego el usuario trata de adivinar el número generado por la computadora. \n",
    "- Tiene solo tres oportunidades para adivinarlo. \n",
    "- **Si el número no fue adivinado, el programa se reiniciara automáticamente hasta que se adivine el número. **"
   ]
  },
  {
   "cell_type": "code",
   "execution_count": 28,
   "metadata": {
    "scrolled": true
   },
   "outputs": [
    {
     "name": "stdout",
     "output_type": "stream",
     "text": [
      "Intento 0: Adivina el numero!!! \n",
      "\n",
      "Escribe un valor entero por favor.\n",
      "Intento 1: Adivina el numero!!! \n",
      "\n",
      "Escribe un valor entero por favor.\n",
      "Intento 2: Adivina el numero!!! \n",
      "\n",
      "Escribe un valor entero por favor.\n",
      "Intento 0: Adivina el numero!!! \n",
      "\n",
      "Escribe un valor entero por favor.\n",
      "Intento 1: Adivina el numero!!! \n",
      "\n",
      "Escribe un valor entero por favor.\n",
      "Intento 2: Adivina el numero!!! \n",
      "\n",
      "Escribe un valor entero por favor.\n",
      "Intento 0: Adivina el numero!!! \n",
      "1\n",
      "Intento 1: Adivina el numero!!! \n",
      "2\n",
      "Intento 2: Adivina el numero!!! \n",
      "3\n",
      "Genial Adivinaste!!!\n",
      "¡¡¡Ganaste!!!\n"
     ]
    }
   ],
   "source": [
    "continua = True\n",
    "while continua: \n",
    "    num_adivinar = ran.randint(0,5)\n",
    "    for i in range(3):\n",
    "        try:\n",
    "            num_suposicion = int(input(\"Intento %d: Adivina el numero!!! \\n\" %(i)))\n",
    "        except:\n",
    "            print (\"Escribe un valor entero por favor.\")\n",
    "        if num_adivinar == num_suposicion:\n",
    "            print (\"Genial Adivinaste!!!\")\n",
    "            print (\"¡¡¡Ganaste!!!\")\n",
    "            continua = False\n",
    "            break\n",
    "    "
   ]
  },
  {
   "cell_type": "code",
   "execution_count": null,
   "metadata": {},
   "outputs": [],
   "source": []
  },
  {
   "cell_type": "markdown",
   "metadata": {},
   "source": [
    "# Tarea: Sumatoria \n",
    "\n",
    "Haz un programa que pida el valor de dos enteros $n$ y $m$ y que muestre por pantalla el valor de\n",
    "\n",
    "$$ \\sum^{m}_{i=n}i $$"
   ]
  },
  {
   "cell_type": "code",
   "execution_count": 7,
   "metadata": {
    "run_control": {
     "marked": false
    }
   },
   "outputs": [
    {
     "name": "stdout",
     "output_type": "stream",
     "text": [
      "Escribe un número entero positivo para n:4\n"
     ]
    },
    {
     "data": {
      "text/plain": [
       "'4'"
      ]
     },
     "execution_count": 7,
     "metadata": {},
     "output_type": "execute_result"
    }
   ],
   "source": [
    "input(\"Escribe un número entero positivo para n:\")"
   ]
  },
  {
   "cell_type": "code",
   "execution_count": 66,
   "metadata": {},
   "outputs": [
    {
     "name": "stdout",
     "output_type": "stream",
     "text": [
      "Escribe un número entero positivo para n:1\n",
      "Escribe otro número entero positivo para m:5\n",
      "15\n"
     ]
    }
   ],
   "source": [
    "n= int(input(\"Escribe un número entero positivo para n:\"))\n",
    "m= int(input(\"Escribe otro número entero positivo para m:\"))\n",
    "tmp=0\n",
    "i=n\n",
    "while i <=m:\n",
    "    tmp = tmp + i\n",
    "    i +=1\n",
    "print (tmp)\n"
   ]
  },
  {
   "cell_type": "markdown",
   "metadata": {},
   "source": [
    "# Tarea: Programa que calcule el factorial\n",
    "\n",
    "Queremos hacer un programa que calcule el factorial de un número entero positivo. El factorial de $n$ se denota con $n!$\n",
    "\n",
    "$$n! = 1*2*3 * \\ldots (n-1)*n $$\n",
    "\n",
    "y que $0! = 1$, haz un programa que pida el valor de n y muestre por pantalla el resultado de calcular $n!$\n",
    "\n",
    "$$ n! := f(n)=\\prod^n_{k=1} k = 1*2*3 * \\ldots (n-1)*n$$\n",
    "\n",
    "También es posible definirlo mediante la relación de recurrencia\n",
    "\n",
    "$$ n! =\\delta(n) =\\begin{equation*}\n",
    "  \\left\\lbrace\n",
    "  \\begin{array}{lr}\n",
    "     \\delta(n) = 1 & \\text{ si, } n = 0 \\\\\n",
    "     \\delta(n) = (n-1)!\\times n & \\text{ si, } n > 0 \\\\\n",
    "  \\end{array}\n",
    "  \\right.\n",
    "\\end{equation*}$$"
   ]
  },
  {
   "cell_type": "code",
   "execution_count": 32,
   "metadata": {},
   "outputs": [
    {
     "name": "stdout",
     "output_type": "stream",
     "text": [
      "Escribe un número entero positivo 5\n",
      "120\n"
     ]
    }
   ],
   "source": [
    "n= int(input(\"Escribe un número entero positivo \"))\n",
    "i=1\n",
    "tmp =1\n",
    "#1*2*3 = 6\n",
    "while i <= n:\n",
    "    tmp = tmp*i\n",
    "    i+=1\n",
    "    \n",
    "print (tmp)"
   ]
  },
  {
   "cell_type": "code",
   "execution_count": 9,
   "metadata": {},
   "outputs": [],
   "source": [
    "!open ."
   ]
  },
  {
   "cell_type": "code",
   "execution_count": null,
   "metadata": {},
   "outputs": [],
   "source": [
    "!start ."
   ]
  }
 ],
 "metadata": {
  "hide_input": false,
  "kernelspec": {
   "display_name": "Python 3",
   "language": "python",
   "name": "python3"
  },
  "language_info": {
   "codemirror_mode": {
    "name": "ipython",
    "version": 3
   },
   "file_extension": ".py",
   "mimetype": "text/x-python",
   "name": "python",
   "nbconvert_exporter": "python",
   "pygments_lexer": "ipython3",
   "version": "3.5.2"
  },
  "toc": {
   "nav_menu": {},
   "number_sections": true,
   "sideBar": true,
   "skip_h1_title": false,
   "toc_cell": false,
   "toc_position": {},
   "toc_section_display": "block",
   "toc_window_display": false
  },
  "varInspector": {
   "cols": {
    "lenName": 16,
    "lenType": 16,
    "lenVar": 40
   },
   "kernels_config": {
    "python": {
     "delete_cmd_postfix": "",
     "delete_cmd_prefix": "del ",
     "library": "var_list.py",
     "varRefreshCmd": "print(var_dic_list())"
    },
    "r": {
     "delete_cmd_postfix": ") ",
     "delete_cmd_prefix": "rm(",
     "library": "var_list.r",
     "varRefreshCmd": "cat(var_dic_list()) "
    }
   },
   "types_to_exclude": [
    "module",
    "function",
    "builtin_function_or_method",
    "instance",
    "_Feature"
   ],
   "window_display": false
  }
 },
 "nbformat": 4,
 "nbformat_minor": 1
}
